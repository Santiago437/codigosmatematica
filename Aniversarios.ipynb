{
  "nbformat": 4,
  "nbformat_minor": 0,
  "metadata": {
    "colab": {
      "provenance": [],
      "collapsed_sections": [],
      "authorship_tag": "ABX9TyNvErcHBK7XybMEA1eYUtRv",
      "include_colab_link": true
    },
    "kernelspec": {
      "name": "python3",
      "display_name": "Python 3"
    },
    "language_info": {
      "name": "python"
    }
  },
  "cells": [
    {
      "cell_type": "markdown",
      "metadata": {
        "id": "view-in-github",
        "colab_type": "text"
      },
      "source": [
        "<a href=\"https://colab.research.google.com/github/Santiago437/codigosmatematica/blob/main/Aniversarios.ipynb\" target=\"_parent\"><img src=\"https://colab.research.google.com/assets/colab-badge.svg\" alt=\"Open In Colab\"/></a>"
      ]
    },
    {
      "cell_type": "code",
      "execution_count": 13,
      "metadata": {
        "colab": {
          "base_uri": "https://localhost:8080/"
        },
        "id": "W-KmjQ3qUl57",
        "outputId": "f254ad62-3081-4273-8c54-aee38f8e9bba"
      },
      "outputs": [
        {
          "output_type": "stream",
          "name": "stdout",
          "text": [
            "30\n",
            "Em uma sala com 30 pessoas. A probabilidade de duas pessoas fazerem aniversário no mesmo dia é  70 %\n"
          ]
        }
      ],
      "source": [
        "from math import factorial\n",
        "n = int(input())\n",
        "f1 = factorial(365)\n",
        "f2 = factorial(365-n)\n",
        "f3 = 365**n\n",
        "pn = f1/(f2*f3)\n",
        "pn\n",
        "\n",
        "p = 1-pn\n",
        "p\n",
        "res = p*100\n",
        "res1 = int(res)\n",
        "print(\"Em uma sala com\",n,\"pessoas. A probabilidade de duas pessoas fazerem aniversário no mesmo dia é \",res1,\"%\")\n"
      ]
    },
    {
      "cell_type": "markdown",
      "source": [
        "***Esse código calcula a probabilidade de duas pessoas fazer aniversário no mesmo dia(p) em uma escola dada a quantidade de pessoas da sala.Toda a explicação da fórmula e a teoria veio do video https://www.youtube.com/watch?v=bQT-KTseOOw&t=615s do professor Possani.***"
      ],
      "metadata": {
        "id": "8yUx0P_WbZj1"
      }
    },
    {
      "cell_type": "markdown",
      "source": [],
      "metadata": {
        "id": "S304Ma9SbT2M"
      }
    },
    {
      "cell_type": "code",
      "source": [],
      "metadata": {
        "id": "eB_Eau-IV2o9"
      },
      "execution_count": 13,
      "outputs": []
    }
  ]
}